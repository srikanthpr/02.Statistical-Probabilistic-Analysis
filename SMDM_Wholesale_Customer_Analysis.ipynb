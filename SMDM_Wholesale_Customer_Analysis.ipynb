{
 "cells": [
  {
   "cell_type": "markdown",
   "metadata": {},
   "source": [
    "# Wholesale Distributor Case Study - Descriptive Statistics\n",
    "\n",
    "A wholesale distributor operating in different regions of Portugal has information on annual spending of several items in their stores across different regions and channels. The data (Wholesale Customer.csv) consists of 440 large retailers’ annual spending on 6 different varieties of products in 3 different regions (Lisbon, Oporto, Other) and across different sales channel (Hotel, Retail).\n",
    "The following Distributor and Product variables to study:\n",
    "\n",
    "|Type    | Data-type | Variables |\n",
    "|:---    | :-------- | :-------- | \n",
    "|Region  | Nominal   | Lisbon    |\n",
    "|        |           | Oporto    |\n",
    "|        |           | Other     |\n",
    "|Channel | Nominal   | Hotel     |\n",
    "|        |           | Retail    |\n",
    "|Products| Continuous| Fresh Products |\n",
    "|        |           | Milk Products|\n",
    "|        |           | Grocery Products|\n",
    "|        |           | Frozen Products|\n",
    "|        |           | Detergent Products|\n",
    "|        |           | Delicatessen Products|"
   ]
  },
  {
   "cell_type": "markdown",
   "metadata": {},
   "source": [
    "# Load the neccessary Libraries."
   ]
  },
  {
   "cell_type": "code",
   "execution_count": 1,
   "metadata": {
    "ExecuteTime": {
     "end_time": "2021-05-23T08:25:30.325090Z",
     "start_time": "2021-05-23T08:25:18.020950Z"
    }
   },
   "outputs": [
    {
     "name": "stderr",
     "output_type": "stream",
     "text": [
      "In C:\\Users\\srika\\anaconda3\\lib\\site-packages\\matplotlib\\mpl-data\\stylelib\\_classic_test.mplstyle: \n",
      "The text.latex.preview rcparam was deprecated in Matplotlib 3.3 and will be removed two minor releases later.\n",
      "In C:\\Users\\srika\\anaconda3\\lib\\site-packages\\matplotlib\\mpl-data\\stylelib\\_classic_test.mplstyle: \n",
      "The mathtext.fallback_to_cm rcparam was deprecated in Matplotlib 3.3 and will be removed two minor releases later.\n",
      "In C:\\Users\\srika\\anaconda3\\lib\\site-packages\\matplotlib\\mpl-data\\stylelib\\_classic_test.mplstyle: Support for setting the 'mathtext.fallback_to_cm' rcParam is deprecated since 3.3 and will be removed two minor releases later; use 'mathtext.fallback : 'cm' instead.\n",
      "In C:\\Users\\srika\\anaconda3\\lib\\site-packages\\matplotlib\\mpl-data\\stylelib\\_classic_test.mplstyle: \n",
      "The validate_bool_maybe_none function was deprecated in Matplotlib 3.3 and will be removed two minor releases later.\n",
      "In C:\\Users\\srika\\anaconda3\\lib\\site-packages\\matplotlib\\mpl-data\\stylelib\\_classic_test.mplstyle: \n",
      "The savefig.jpeg_quality rcparam was deprecated in Matplotlib 3.3 and will be removed two minor releases later.\n",
      "In C:\\Users\\srika\\anaconda3\\lib\\site-packages\\matplotlib\\mpl-data\\stylelib\\_classic_test.mplstyle: \n",
      "The keymap.all_axes rcparam was deprecated in Matplotlib 3.3 and will be removed two minor releases later.\n",
      "In C:\\Users\\srika\\anaconda3\\lib\\site-packages\\matplotlib\\mpl-data\\stylelib\\_classic_test.mplstyle: \n",
      "The animation.avconv_path rcparam was deprecated in Matplotlib 3.3 and will be removed two minor releases later.\n",
      "In C:\\Users\\srika\\anaconda3\\lib\\site-packages\\matplotlib\\mpl-data\\stylelib\\_classic_test.mplstyle: \n",
      "The animation.avconv_args rcparam was deprecated in Matplotlib 3.3 and will be removed two minor releases later.\n"
     ]
    }
   ],
   "source": [
    "# Import required Libraries/packages/Modules \n",
    "from IPython.core.interactiveshell import InteractiveShell\n",
    "InteractiveShell.ast_node_interactivity = \"all\"\n",
    "\n",
    "import os\n",
    "import pandas as pd\n",
    "import numpy as np\n",
    "import seaborn as sns\n",
    "import matplotlib.pyplot as plt\n",
    "%matplotlib inline"
   ]
  },
  {
   "cell_type": "markdown",
   "metadata": {},
   "source": [
    "# Import the dataset and Load the dataset."
   ]
  },
  {
   "cell_type": "code",
   "execution_count": 2,
   "metadata": {
    "ExecuteTime": {
     "end_time": "2021-05-23T08:25:30.619459Z",
     "start_time": "2021-05-23T08:25:30.579463Z"
    }
   },
   "outputs": [],
   "source": [
    "# Define df has variable for wholesale-customer dataset  and import the dataset. \n",
    "df = pd.read_csv('Wholesale Customer.csv')"
   ]
  },
  {
   "cell_type": "code",
   "execution_count": 3,
   "metadata": {
    "ExecuteTime": {
     "end_time": "2021-05-23T08:25:30.963432Z",
     "start_time": "2021-05-23T08:25:30.947437Z"
    }
   },
   "outputs": [],
   "source": [
    "# Drop Buyer/Spender has it is a unique number which is unnecessary\n",
    "df.drop('Buyer/Spender',axis=1,inplace=True)"
   ]
  },
  {
   "cell_type": "markdown",
   "metadata": {},
   "source": [
    "# EDA : Exploratory Data Analysis"
   ]
  },
  {
   "cell_type": "code",
   "execution_count": 4,
   "metadata": {
    "ExecuteTime": {
     "end_time": "2021-05-23T08:25:31.275476Z",
     "start_time": "2021-05-23T08:25:31.251403Z"
    }
   },
   "outputs": [
    {
     "name": "stdout",
     "output_type": "stream",
     "text": [
      "There are total 440 rows and 8 columns in the dataset\n"
     ]
    }
   ],
   "source": [
    "#Shape of the Data:\n",
    "row, col = df.shape\n",
    "print(\"There are total {}\".format(row), \"rows and {}\".format(col),\"columns in the dataset\")"
   ]
  },
  {
   "cell_type": "code",
   "execution_count": 5,
   "metadata": {
    "ExecuteTime": {
     "end_time": "2021-05-23T08:25:31.579374Z",
     "start_time": "2021-05-23T08:25:31.547414Z"
    }
   },
   "outputs": [
    {
     "name": "stdout",
     "output_type": "stream",
     "text": [
      "<class 'pandas.core.frame.DataFrame'>\n",
      "RangeIndex: 440 entries, 0 to 439\n",
      "Data columns (total 8 columns):\n",
      " #   Column            Non-Null Count  Dtype \n",
      "---  ------            --------------  ----- \n",
      " 0   Channel           440 non-null    object\n",
      " 1   Region            440 non-null    object\n",
      " 2   Fresh             440 non-null    int64 \n",
      " 3   Milk              440 non-null    int64 \n",
      " 4   Grocery           440 non-null    int64 \n",
      " 5   Frozen            440 non-null    int64 \n",
      " 6   Detergents_Paper  440 non-null    int64 \n",
      " 7   Delicatessen      440 non-null    int64 \n",
      "dtypes: int64(6), object(2)\n",
      "memory usage: 27.6+ KB\n"
     ]
    }
   ],
   "source": [
    "#To check any missing values, Datatype of the variable. \n",
    "df.info()"
   ]
  },
  {
   "cell_type": "code",
   "execution_count": 6,
   "metadata": {
    "ExecuteTime": {
     "end_time": "2021-05-23T08:25:35.619496Z",
     "start_time": "2021-05-23T08:25:35.595497Z"
    }
   },
   "outputs": [
    {
     "data": {
      "text/plain": [
       "False"
      ]
     },
     "execution_count": 6,
     "metadata": {},
     "output_type": "execute_result"
    }
   ],
   "source": [
    "# To check for any missing values in the dataset.\n",
    "df.isnull().values.any()"
   ]
  },
  {
   "cell_type": "markdown",
   "metadata": {},
   "source": [
    "# 1.1\tUse methods of descriptive statistics to summarize data:\n",
    "            Which Region and which Channel seems to spend more? AND\n",
    "            Which Region and which Channel seems to spend less?\n"
   ]
  },
  {
   "cell_type": "code",
   "execution_count": 7,
   "metadata": {
    "ExecuteTime": {
     "end_time": "2021-05-23T08:25:38.855984Z",
     "start_time": "2021-05-23T08:25:38.429757Z"
    },
    "scrolled": true
   },
   "outputs": [
    {
     "data": {
      "text/html": [
       "<div>\n",
       "<style scoped>\n",
       "    .dataframe tbody tr th:only-of-type {\n",
       "        vertical-align: middle;\n",
       "    }\n",
       "\n",
       "    .dataframe tbody tr th {\n",
       "        vertical-align: top;\n",
       "    }\n",
       "\n",
       "    .dataframe thead th {\n",
       "        text-align: right;\n",
       "    }\n",
       "</style>\n",
       "<table border=\"1\" class=\"dataframe\">\n",
       "  <thead>\n",
       "    <tr style=\"text-align: right;\">\n",
       "      <th></th>\n",
       "      <th>Channel</th>\n",
       "      <th>Region</th>\n",
       "      <th>Fresh</th>\n",
       "      <th>Milk</th>\n",
       "      <th>Grocery</th>\n",
       "      <th>Frozen</th>\n",
       "      <th>Detergents_Paper</th>\n",
       "      <th>Delicatessen</th>\n",
       "    </tr>\n",
       "  </thead>\n",
       "  <tbody>\n",
       "    <tr>\n",
       "      <th>count</th>\n",
       "      <td>440</td>\n",
       "      <td>440</td>\n",
       "      <td>440.000000</td>\n",
       "      <td>440.000000</td>\n",
       "      <td>440.000000</td>\n",
       "      <td>440.000000</td>\n",
       "      <td>440.000000</td>\n",
       "      <td>440.000000</td>\n",
       "    </tr>\n",
       "    <tr>\n",
       "      <th>unique</th>\n",
       "      <td>2</td>\n",
       "      <td>3</td>\n",
       "      <td>NaN</td>\n",
       "      <td>NaN</td>\n",
       "      <td>NaN</td>\n",
       "      <td>NaN</td>\n",
       "      <td>NaN</td>\n",
       "      <td>NaN</td>\n",
       "    </tr>\n",
       "    <tr>\n",
       "      <th>top</th>\n",
       "      <td>Hotel</td>\n",
       "      <td>Other</td>\n",
       "      <td>NaN</td>\n",
       "      <td>NaN</td>\n",
       "      <td>NaN</td>\n",
       "      <td>NaN</td>\n",
       "      <td>NaN</td>\n",
       "      <td>NaN</td>\n",
       "    </tr>\n",
       "    <tr>\n",
       "      <th>freq</th>\n",
       "      <td>298</td>\n",
       "      <td>316</td>\n",
       "      <td>NaN</td>\n",
       "      <td>NaN</td>\n",
       "      <td>NaN</td>\n",
       "      <td>NaN</td>\n",
       "      <td>NaN</td>\n",
       "      <td>NaN</td>\n",
       "    </tr>\n",
       "    <tr>\n",
       "      <th>mean</th>\n",
       "      <td>NaN</td>\n",
       "      <td>NaN</td>\n",
       "      <td>12000.297727</td>\n",
       "      <td>5796.265909</td>\n",
       "      <td>7951.277273</td>\n",
       "      <td>3071.931818</td>\n",
       "      <td>2881.493182</td>\n",
       "      <td>1524.870455</td>\n",
       "    </tr>\n",
       "    <tr>\n",
       "      <th>std</th>\n",
       "      <td>NaN</td>\n",
       "      <td>NaN</td>\n",
       "      <td>12647.328865</td>\n",
       "      <td>7380.377175</td>\n",
       "      <td>9503.162829</td>\n",
       "      <td>4854.673333</td>\n",
       "      <td>4767.854448</td>\n",
       "      <td>2820.105937</td>\n",
       "    </tr>\n",
       "    <tr>\n",
       "      <th>min</th>\n",
       "      <td>NaN</td>\n",
       "      <td>NaN</td>\n",
       "      <td>3.000000</td>\n",
       "      <td>55.000000</td>\n",
       "      <td>3.000000</td>\n",
       "      <td>25.000000</td>\n",
       "      <td>3.000000</td>\n",
       "      <td>3.000000</td>\n",
       "    </tr>\n",
       "    <tr>\n",
       "      <th>25%</th>\n",
       "      <td>NaN</td>\n",
       "      <td>NaN</td>\n",
       "      <td>3127.750000</td>\n",
       "      <td>1533.000000</td>\n",
       "      <td>2153.000000</td>\n",
       "      <td>742.250000</td>\n",
       "      <td>256.750000</td>\n",
       "      <td>408.250000</td>\n",
       "    </tr>\n",
       "    <tr>\n",
       "      <th>50%</th>\n",
       "      <td>NaN</td>\n",
       "      <td>NaN</td>\n",
       "      <td>8504.000000</td>\n",
       "      <td>3627.000000</td>\n",
       "      <td>4755.500000</td>\n",
       "      <td>1526.000000</td>\n",
       "      <td>816.500000</td>\n",
       "      <td>965.500000</td>\n",
       "    </tr>\n",
       "    <tr>\n",
       "      <th>75%</th>\n",
       "      <td>NaN</td>\n",
       "      <td>NaN</td>\n",
       "      <td>16933.750000</td>\n",
       "      <td>7190.250000</td>\n",
       "      <td>10655.750000</td>\n",
       "      <td>3554.250000</td>\n",
       "      <td>3922.000000</td>\n",
       "      <td>1820.250000</td>\n",
       "    </tr>\n",
       "    <tr>\n",
       "      <th>max</th>\n",
       "      <td>NaN</td>\n",
       "      <td>NaN</td>\n",
       "      <td>112151.000000</td>\n",
       "      <td>73498.000000</td>\n",
       "      <td>92780.000000</td>\n",
       "      <td>60869.000000</td>\n",
       "      <td>40827.000000</td>\n",
       "      <td>47943.000000</td>\n",
       "    </tr>\n",
       "  </tbody>\n",
       "</table>\n",
       "</div>"
      ],
      "text/plain": [
       "       Channel Region          Fresh          Milk       Grocery  \\\n",
       "count      440    440     440.000000    440.000000    440.000000   \n",
       "unique       2      3            NaN           NaN           NaN   \n",
       "top      Hotel  Other            NaN           NaN           NaN   \n",
       "freq       298    316            NaN           NaN           NaN   \n",
       "mean       NaN    NaN   12000.297727   5796.265909   7951.277273   \n",
       "std        NaN    NaN   12647.328865   7380.377175   9503.162829   \n",
       "min        NaN    NaN       3.000000     55.000000      3.000000   \n",
       "25%        NaN    NaN    3127.750000   1533.000000   2153.000000   \n",
       "50%        NaN    NaN    8504.000000   3627.000000   4755.500000   \n",
       "75%        NaN    NaN   16933.750000   7190.250000  10655.750000   \n",
       "max        NaN    NaN  112151.000000  73498.000000  92780.000000   \n",
       "\n",
       "              Frozen  Detergents_Paper  Delicatessen  \n",
       "count     440.000000        440.000000    440.000000  \n",
       "unique           NaN               NaN           NaN  \n",
       "top              NaN               NaN           NaN  \n",
       "freq             NaN               NaN           NaN  \n",
       "mean     3071.931818       2881.493182   1524.870455  \n",
       "std      4854.673333       4767.854448   2820.105937  \n",
       "min        25.000000          3.000000      3.000000  \n",
       "25%       742.250000        256.750000    408.250000  \n",
       "50%      1526.000000        816.500000    965.500000  \n",
       "75%      3554.250000       3922.000000   1820.250000  \n",
       "max     60869.000000      40827.000000  47943.000000  "
      ]
     },
     "execution_count": 7,
     "metadata": {},
     "output_type": "execute_result"
    }
   ],
   "source": [
    "# To check summary of the dataset.\n",
    "df.describe(include='all')"
   ]
  },
  {
   "cell_type": "markdown",
   "metadata": {},
   "source": [
    "**From the above desccriptive statistics, average spending on Fresh is 1200, Milk is 5796, Grocery is 7951, Frozen is 3071, Detergent_paper is 2881 and Delicatessen is 1525. From this result we can say that Highest spending amount is on grocery.**"
   ]
  },
  {
   "cell_type": "code",
   "execution_count": 8,
   "metadata": {
    "ExecuteTime": {
     "end_time": "2021-05-23T08:25:55.121542Z",
     "start_time": "2021-05-23T08:25:55.097541Z"
    }
   },
   "outputs": [
    {
     "name": "stdout",
     "output_type": "stream",
     "text": [
      "The Median of Fresh is 8504.0\n",
      "The Median of Milk is 3627.0\n",
      "The Median of Grocery is 4755.5\n",
      "The Median of Frozen is 1526.0\n",
      "The Median of Detergents_Paper is 816.5\n",
      "The Median of Delicatessen is 965.5\n"
     ]
    }
   ],
   "source": [
    "#Median\n",
    "#columns = ['Fresh','Milk','Grocery','Frozen','Detergents_Paper','Delicatessen']\n",
    "med1 = np.median(df['Fresh'])\n",
    "print(\"The Median of Fresh is {}\".format(med1))\n",
    "med2 = np.median(df['Milk'])\n",
    "print(\"The Median of Milk is {}\".format(med2))\n",
    "med3 = np.median(df['Grocery'])\n",
    "print(\"The Median of Grocery is {}\".format(med3))\n",
    "med4 = np.median(df['Frozen'])\n",
    "print(\"The Median of Frozen is {}\".format(med4))\n",
    "med5 = np.median(df['Detergents_Paper'])\n",
    "print(\"The Median of Detergents_Paper is {}\".format(med5))\n",
    "med6 = np.median(df['Delicatessen'])\n",
    "print(\"The Median of Delicatessen is {}\".format(med6))"
   ]
  },
  {
   "cell_type": "markdown",
   "metadata": {},
   "source": [
    "**From the above result, We could show that the median values is same as 50th percentile of the dataset. Since the mean and median of all the six variables are not the same, we can say that the variables are highly skewed.** "
   ]
  },
  {
   "cell_type": "markdown",
   "metadata": {},
   "source": [
    "### Mode Claculation\n",
    "\n",
    "The \"mode\" is the value that occurs most often"
   ]
  },
  {
   "cell_type": "code",
   "execution_count": 9,
   "metadata": {
    "ExecuteTime": {
     "end_time": "2021-05-23T08:25:59.829622Z",
     "start_time": "2021-05-23T08:25:59.773622Z"
    }
   },
   "outputs": [
    {
     "name": "stdout",
     "output_type": "stream",
     "text": [
      "The most often occur value (mode) of Region is Other\n",
      "The most often occur value (mode) of Channel is Hotel\n"
     ]
    }
   ],
   "source": [
    "# Mode\n",
    "from statistics import mode\n",
    "mod1 = mode(df['Region'])\n",
    "print(\"The most often occur value (mode) of Region is {}\".format(mod1))\n",
    "mod2 = mode(df['Channel'])\n",
    "print(\"The most often occur value (mode) of Channel is {}\".format(mod2))"
   ]
  },
  {
   "cell_type": "code",
   "execution_count": 10,
   "metadata": {
    "ExecuteTime": {
     "end_time": "2021-05-23T08:26:01.893205Z",
     "start_time": "2021-05-23T08:26:01.853190Z"
    }
   },
   "outputs": [
    {
     "name": "stdout",
     "output_type": "stream",
     "text": [
      "9670     2\n",
      "3        2\n",
      "8040     2\n",
      "514      2\n",
      "18044    2\n",
      "Name: Fresh, dtype: int64\n",
      "1897    2\n",
      "5139    2\n",
      "659     2\n",
      "829     2\n",
      "944     2\n",
      "Name: Milk, dtype: int64\n",
      "1664    2\n",
      "2405    2\n",
      "1493    2\n",
      "1563    2\n",
      "3600    2\n",
      "Name: Grocery, dtype: int64\n",
      "744     2\n",
      "779     2\n",
      "1619    2\n",
      "364     2\n",
      "848     2\n",
      "Name: Frozen, dtype: int64\n",
      "227    2\n",
      "311    2\n",
      "118    2\n",
      "811    2\n",
      "788    2\n",
      "Name: Detergents_Paper, dtype: int64\n",
      "834     4\n",
      "3       4\n",
      "548     3\n",
      "1215    3\n",
      "395     3\n",
      "Name: Delicatessen, dtype: int64\n"
     ]
    }
   ],
   "source": [
    "for i in df.columns[2:8]:\n",
    "    print(df[i].value_counts(ascending=False).head(5))"
   ]
  },
  {
   "cell_type": "markdown",
   "metadata": {},
   "source": [
    "Now, let us check the different observations and the counts of each of these observations under the variables \"Region\" and \"Channel\""
   ]
  },
  {
   "cell_type": "code",
   "execution_count": 11,
   "metadata": {
    "ExecuteTime": {
     "end_time": "2021-05-23T08:26:06.067516Z",
     "start_time": "2021-05-23T08:26:06.051518Z"
    }
   },
   "outputs": [
    {
     "data": {
      "text/plain": [
       "Other     316\n",
       "Lisbon     77\n",
       "Oporto     47\n",
       "Name: Region, dtype: int64"
      ]
     },
     "execution_count": 11,
     "metadata": {},
     "output_type": "execute_result"
    }
   ],
   "source": [
    "df['Region'].value_counts()"
   ]
  },
  {
   "cell_type": "markdown",
   "metadata": {},
   "source": [
    "**There are 47 Observations of Oporto,77 for Lisbon and 316 for Other Regions.**"
   ]
  },
  {
   "cell_type": "code",
   "execution_count": 12,
   "metadata": {
    "ExecuteTime": {
     "end_time": "2021-05-23T08:26:07.302948Z",
     "start_time": "2021-05-23T08:26:07.285114Z"
    }
   },
   "outputs": [
    {
     "data": {
      "text/plain": [
       "Hotel     298\n",
       "Retail    142\n",
       "Name: Channel, dtype: int64"
      ]
     },
     "execution_count": 12,
     "metadata": {},
     "output_type": "execute_result"
    }
   ],
   "source": [
    "df['Channel'].value_counts()"
   ]
  },
  {
   "cell_type": "markdown",
   "metadata": {},
   "source": [
    "**There are 142 Observations of Retail and 298 for Hotel Channel.**"
   ]
  },
  {
   "cell_type": "markdown",
   "metadata": {},
   "source": [
    "### To Calulate the sum of 6 varities spent by customer across region and channel."
   ]
  },
  {
   "cell_type": "markdown",
   "metadata": {},
   "source": [
    "**Now, create a new column of total of spendings by 6 different varieties.**"
   ]
  },
  {
   "cell_type": "code",
   "execution_count": 13,
   "metadata": {
    "ExecuteTime": {
     "end_time": "2021-05-23T08:26:10.660696Z",
     "start_time": "2021-05-23T08:26:10.636693Z"
    }
   },
   "outputs": [
    {
     "data": {
      "text/html": [
       "<div>\n",
       "<style scoped>\n",
       "    .dataframe tbody tr th:only-of-type {\n",
       "        vertical-align: middle;\n",
       "    }\n",
       "\n",
       "    .dataframe tbody tr th {\n",
       "        vertical-align: top;\n",
       "    }\n",
       "\n",
       "    .dataframe thead th {\n",
       "        text-align: right;\n",
       "    }\n",
       "</style>\n",
       "<table border=\"1\" class=\"dataframe\">\n",
       "  <thead>\n",
       "    <tr style=\"text-align: right;\">\n",
       "      <th></th>\n",
       "      <th>Channel</th>\n",
       "      <th>Region</th>\n",
       "      <th>Fresh</th>\n",
       "      <th>Milk</th>\n",
       "      <th>Grocery</th>\n",
       "      <th>Frozen</th>\n",
       "      <th>Detergents_Paper</th>\n",
       "      <th>Delicatessen</th>\n",
       "      <th>Total</th>\n",
       "    </tr>\n",
       "  </thead>\n",
       "  <tbody>\n",
       "    <tr>\n",
       "      <th>0</th>\n",
       "      <td>Retail</td>\n",
       "      <td>Other</td>\n",
       "      <td>12669</td>\n",
       "      <td>9656</td>\n",
       "      <td>7561</td>\n",
       "      <td>214</td>\n",
       "      <td>2674</td>\n",
       "      <td>1338</td>\n",
       "      <td>34112</td>\n",
       "    </tr>\n",
       "    <tr>\n",
       "      <th>1</th>\n",
       "      <td>Retail</td>\n",
       "      <td>Other</td>\n",
       "      <td>7057</td>\n",
       "      <td>9810</td>\n",
       "      <td>9568</td>\n",
       "      <td>1762</td>\n",
       "      <td>3293</td>\n",
       "      <td>1776</td>\n",
       "      <td>33266</td>\n",
       "    </tr>\n",
       "    <tr>\n",
       "      <th>2</th>\n",
       "      <td>Retail</td>\n",
       "      <td>Other</td>\n",
       "      <td>6353</td>\n",
       "      <td>8808</td>\n",
       "      <td>7684</td>\n",
       "      <td>2405</td>\n",
       "      <td>3516</td>\n",
       "      <td>7844</td>\n",
       "      <td>36610</td>\n",
       "    </tr>\n",
       "    <tr>\n",
       "      <th>3</th>\n",
       "      <td>Hotel</td>\n",
       "      <td>Other</td>\n",
       "      <td>13265</td>\n",
       "      <td>1196</td>\n",
       "      <td>4221</td>\n",
       "      <td>6404</td>\n",
       "      <td>507</td>\n",
       "      <td>1788</td>\n",
       "      <td>27381</td>\n",
       "    </tr>\n",
       "    <tr>\n",
       "      <th>4</th>\n",
       "      <td>Retail</td>\n",
       "      <td>Other</td>\n",
       "      <td>22615</td>\n",
       "      <td>5410</td>\n",
       "      <td>7198</td>\n",
       "      <td>3915</td>\n",
       "      <td>1777</td>\n",
       "      <td>5185</td>\n",
       "      <td>46100</td>\n",
       "    </tr>\n",
       "  </tbody>\n",
       "</table>\n",
       "</div>"
      ],
      "text/plain": [
       "  Channel Region  Fresh  Milk  Grocery  Frozen  Detergents_Paper  \\\n",
       "0  Retail  Other  12669  9656     7561     214              2674   \n",
       "1  Retail  Other   7057  9810     9568    1762              3293   \n",
       "2  Retail  Other   6353  8808     7684    2405              3516   \n",
       "3   Hotel  Other  13265  1196     4221    6404               507   \n",
       "4  Retail  Other  22615  5410     7198    3915              1777   \n",
       "\n",
       "   Delicatessen  Total  \n",
       "0          1338  34112  \n",
       "1          1776  33266  \n",
       "2          7844  36610  \n",
       "3          1788  27381  \n",
       "4          5185  46100  "
      ]
     },
     "execution_count": 13,
     "metadata": {},
     "output_type": "execute_result"
    }
   ],
   "source": [
    "df['Total']= df.sum(axis=1)\n",
    "df.head()"
   ]
  },
  {
   "cell_type": "markdown",
   "metadata": {},
   "source": [
    "## Create barplot to check the spending as per Region"
   ]
  },
  {
   "cell_type": "code",
   "execution_count": 14,
   "metadata": {
    "ExecuteTime": {
     "end_time": "2021-05-23T08:26:15.692291Z",
     "start_time": "2021-05-23T08:26:15.251349Z"
    }
   },
   "outputs": [
    {
     "data": {
      "image/png": "[encoded data removed]",
      "text/plain": [
       "<Figure size 576x576 with 1 Axes>"
      ]
     },
     "metadata": {
      "needs_background": "light"
     },
     "output_type": "display_data"
    }
   ],
   "source": [
    "plt.figure(figsize=(8,8))\n",
    "RegionAggregated = pd.DataFrame(df.groupby([\"Region\"],sort=True)[\"Total\"].sum()).reset_index()\n",
    "a = sns.barplot(x=RegionAggregated['Region'],y=RegionAggregated['Total'],data=RegionAggregated)\n",
    "a.set_title(\"Spending Barplot Region wise\", fontsize=15)\n",
    "plt.show();"
   ]
  },
  {
   "cell_type": "code",
   "execution_count": 15,
   "metadata": {
    "ExecuteTime": {
     "end_time": "2021-05-23T08:26:20.769256Z",
     "start_time": "2021-05-23T08:26:20.753258Z"
    }
   },
   "outputs": [
    {
     "data": {
      "text/html": [
       "<div>\n",
       "<style scoped>\n",
       "    .dataframe tbody tr th:only-of-type {\n",
       "        vertical-align: middle;\n",
       "    }\n",
       "\n",
       "    .dataframe tbody tr th {\n",
       "        vertical-align: top;\n",
       "    }\n",
       "\n",
       "    .dataframe thead th {\n",
       "        text-align: right;\n",
       "    }\n",
       "</style>\n",
       "<table border=\"1\" class=\"dataframe\">\n",
       "  <thead>\n",
       "    <tr style=\"text-align: right;\">\n",
       "      <th></th>\n",
       "      <th>Region</th>\n",
       "      <th>Total</th>\n",
       "    </tr>\n",
       "  </thead>\n",
       "  <tbody>\n",
       "    <tr>\n",
       "      <th>0</th>\n",
       "      <td>Lisbon</td>\n",
       "      <td>2386813</td>\n",
       "    </tr>\n",
       "    <tr>\n",
       "      <th>1</th>\n",
       "      <td>Oporto</td>\n",
       "      <td>1555088</td>\n",
       "    </tr>\n",
       "    <tr>\n",
       "      <th>2</th>\n",
       "      <td>Other</td>\n",
       "      <td>10677599</td>\n",
       "    </tr>\n",
       "  </tbody>\n",
       "</table>\n",
       "</div>"
      ],
      "text/plain": [
       "   Region     Total\n",
       "0  Lisbon   2386813\n",
       "1  Oporto   1555088\n",
       "2   Other  10677599"
      ]
     },
     "execution_count": 15,
     "metadata": {},
     "output_type": "execute_result"
    }
   ],
   "source": [
    "RegionAggregated.head()"
   ]
  },
  {
   "cell_type": "markdown",
   "metadata": {},
   "source": [
    "**From the above barplot, we can see that Other region is spending the highest and Oporto Region is spending the least.**"
   ]
  },
  {
   "cell_type": "markdown",
   "metadata": {},
   "source": [
    "## Create barplot to check the spending as per Channel"
   ]
  },
  {
   "cell_type": "code",
   "execution_count": 16,
   "metadata": {
    "ExecuteTime": {
     "end_time": "2021-05-23T08:26:32.160275Z",
     "start_time": "2021-05-23T08:26:31.860242Z"
    }
   },
   "outputs": [
    {
     "data": {
      "image/png": "[encoded data removed]",
      "text/plain": [
       "<Figure size 576x576 with 1 Axes>"
      ]
     },
     "metadata": {
      "needs_background": "light"
     },
     "output_type": "display_data"
    }
   ],
   "source": [
    "plt.figure(figsize=(8,8))\n",
    "ChannelAggregated = pd.DataFrame(df.groupby([\"Channel\"],sort=True)[\"Total\"].sum()).reset_index()\n",
    "a = sns.barplot(x=ChannelAggregated['Channel'],y=ChannelAggregated['Total'],data=ChannelAggregated)\n",
    "a.set_title(\"Spending Barplot Channel wise\", fontsize=15)\n",
    "plt.show();"
   ]
  },
  {
   "cell_type": "code",
   "execution_count": 17,
   "metadata": {
    "ExecuteTime": {
     "end_time": "2021-05-23T08:26:34.556636Z",
     "start_time": "2021-05-23T08:26:34.540637Z"
    }
   },
   "outputs": [
    {
     "data": {
      "text/html": [
       "<div>\n",
       "<style scoped>\n",
       "    .dataframe tbody tr th:only-of-type {\n",
       "        vertical-align: middle;\n",
       "    }\n",
       "\n",
       "    .dataframe tbody tr th {\n",
       "        vertical-align: top;\n",
       "    }\n",
       "\n",
       "    .dataframe thead th {\n",
       "        text-align: right;\n",
       "    }\n",
       "</style>\n",
       "<table border=\"1\" class=\"dataframe\">\n",
       "  <thead>\n",
       "    <tr style=\"text-align: right;\">\n",
       "      <th></th>\n",
       "      <th>Channel</th>\n",
       "      <th>Total</th>\n",
       "    </tr>\n",
       "  </thead>\n",
       "  <tbody>\n",
       "    <tr>\n",
       "      <th>0</th>\n",
       "      <td>Hotel</td>\n",
       "      <td>7999569</td>\n",
       "    </tr>\n",
       "    <tr>\n",
       "      <th>1</th>\n",
       "      <td>Retail</td>\n",
       "      <td>6619931</td>\n",
       "    </tr>\n",
       "  </tbody>\n",
       "</table>\n",
       "</div>"
      ],
      "text/plain": [
       "  Channel    Total\n",
       "0   Hotel  7999569\n",
       "1  Retail  6619931"
      ]
     },
     "execution_count": 17,
     "metadata": {},
     "output_type": "execute_result"
    }
   ],
   "source": [
    "ChannelAggregated.head()"
   ]
  },
  {
   "cell_type": "markdown",
   "metadata": {},
   "source": [
    "#### From the above Results, We find out:\n",
    "\n",
    "    1.The 'Hotel' channel spent more amount: 7,999,569 Euro. and\n",
    "    2.The 'Retail' channel spent less amount: 6,619,931 Euro."
   ]
  },
  {
   "cell_type": "code",
   "execution_count": 18,
   "metadata": {
    "ExecuteTime": {
     "end_time": "2021-05-23T08:26:37.574954Z",
     "start_time": "2021-05-23T08:26:37.230067Z"
    }
   },
   "outputs": [
    {
     "data": {
      "image/png": "[encoded data removed]",
      "text/plain": [
       "<Figure size 576x576 with 1 Axes>"
      ]
     },
     "metadata": {
      "needs_background": "light"
     },
     "output_type": "display_data"
    }
   ],
   "source": [
    "plt.figure(figsize=(8,8))\n",
    "Aggregated = pd.DataFrame(df.groupby([\"Region\",\"Channel\"],sort=True)[\"Total\"].sum()).reset_index()\n",
    "a = sns.barplot(x=Aggregated['Region'],y=Aggregated['Total'],hue=Aggregated['Channel'],data=Aggregated)\n",
    "a.set_title(\"Spending Barplot Region and Channel wise\", fontsize=15)\n",
    "plt.show();"
   ]
  },
  {
   "cell_type": "markdown",
   "metadata": {},
   "source": [
    "**From the above barplot, Other Region which has the Highest spendings, hotel channel has more spendings than retail channel. Same pattern can be seen for Lisbon. However, in Oporto Rgion, Retail has the more spending as compare to the Hotel channel.**"
   ]
  },
  {
   "cell_type": "code",
   "execution_count": 19,
   "metadata": {
    "ExecuteTime": {
     "end_time": "2021-05-23T08:26:39.776300Z",
     "start_time": "2021-05-23T08:26:39.752299Z"
    }
   },
   "outputs": [
    {
     "data": {
      "text/html": [
       "<div>\n",
       "<style scoped>\n",
       "    .dataframe tbody tr th:only-of-type {\n",
       "        vertical-align: middle;\n",
       "    }\n",
       "\n",
       "    .dataframe tbody tr th {\n",
       "        vertical-align: top;\n",
       "    }\n",
       "\n",
       "    .dataframe thead th {\n",
       "        text-align: right;\n",
       "    }\n",
       "</style>\n",
       "<table border=\"1\" class=\"dataframe\">\n",
       "  <thead>\n",
       "    <tr style=\"text-align: right;\">\n",
       "      <th></th>\n",
       "      <th>Region</th>\n",
       "      <th>Channel</th>\n",
       "      <th>Total</th>\n",
       "    </tr>\n",
       "  </thead>\n",
       "  <tbody>\n",
       "    <tr>\n",
       "      <th>0</th>\n",
       "      <td>Lisbon</td>\n",
       "      <td>Hotel</td>\n",
       "      <td>1538342</td>\n",
       "    </tr>\n",
       "    <tr>\n",
       "      <th>1</th>\n",
       "      <td>Lisbon</td>\n",
       "      <td>Retail</td>\n",
       "      <td>848471</td>\n",
       "    </tr>\n",
       "    <tr>\n",
       "      <th>2</th>\n",
       "      <td>Oporto</td>\n",
       "      <td>Hotel</td>\n",
       "      <td>719150</td>\n",
       "    </tr>\n",
       "    <tr>\n",
       "      <th>3</th>\n",
       "      <td>Oporto</td>\n",
       "      <td>Retail</td>\n",
       "      <td>835938</td>\n",
       "    </tr>\n",
       "    <tr>\n",
       "      <th>4</th>\n",
       "      <td>Other</td>\n",
       "      <td>Hotel</td>\n",
       "      <td>5742077</td>\n",
       "    </tr>\n",
       "    <tr>\n",
       "      <th>5</th>\n",
       "      <td>Other</td>\n",
       "      <td>Retail</td>\n",
       "      <td>4935522</td>\n",
       "    </tr>\n",
       "  </tbody>\n",
       "</table>\n",
       "</div>"
      ],
      "text/plain": [
       "   Region Channel    Total\n",
       "0  Lisbon   Hotel  1538342\n",
       "1  Lisbon  Retail   848471\n",
       "2  Oporto   Hotel   719150\n",
       "3  Oporto  Retail   835938\n",
       "4   Other   Hotel  5742077\n",
       "5   Other  Retail  4935522"
      ]
     },
     "execution_count": 19,
     "metadata": {},
     "output_type": "execute_result"
    }
   ],
   "source": [
    "Aggregated.head(10)"
   ]
  },
  {
   "cell_type": "code",
   "execution_count": 20,
   "metadata": {
    "ExecuteTime": {
     "end_time": "2021-05-23T08:26:40.531752Z",
     "start_time": "2021-05-23T08:26:40.523752Z"
    }
   },
   "outputs": [],
   "source": [
    "# Now drop the total column\n",
    "df.drop('Total',axis=1,inplace=True)"
   ]
  },
  {
   "cell_type": "markdown",
   "metadata": {},
   "source": [
    "# 1.2\tThere are 6 different varieties of items are considered:\n",
    "\n",
    "    Do all varieties show similar behaviour across Region and Channel?\n"
   ]
  },
  {
   "cell_type": "markdown",
   "metadata": {},
   "source": [
    "-Subset the dataset with respect to Region and channel"
   ]
  },
  {
   "cell_type": "code",
   "execution_count": 21,
   "metadata": {
    "ExecuteTime": {
     "end_time": "2021-05-23T08:26:43.887921Z",
     "start_time": "2021-05-23T08:26:43.871921Z"
    }
   },
   "outputs": [],
   "source": [
    "# Channel wise data subset\n",
    "Retail = df[df['Channel'] == 'Retail']\n",
    "Hotel = df[df['Channel'] == 'Hotel']"
   ]
  },
  {
   "cell_type": "markdown",
   "metadata": {},
   "source": [
    "To check the behaviour of the varities, will perform Descriptive analytics"
   ]
  },
  {
   "cell_type": "code",
   "execution_count": 22,
   "metadata": {
    "ExecuteTime": {
     "end_time": "2021-05-23T08:26:45.567588Z",
     "start_time": "2021-05-23T08:26:45.503572Z"
    }
   },
   "outputs": [
    {
     "data": {
      "text/html": [
       "<div>\n",
       "<style scoped>\n",
       "    .dataframe tbody tr th:only-of-type {\n",
       "        vertical-align: middle;\n",
       "    }\n",
       "\n",
       "    .dataframe tbody tr th {\n",
       "        vertical-align: top;\n",
       "    }\n",
       "\n",
       "    .dataframe thead th {\n",
       "        text-align: right;\n",
       "    }\n",
       "</style>\n",
       "<table border=\"1\" class=\"dataframe\">\n",
       "  <thead>\n",
       "    <tr style=\"text-align: right;\">\n",
       "      <th></th>\n",
       "      <th>Fresh</th>\n",
       "      <th>Milk</th>\n",
       "      <th>Grocery</th>\n",
       "      <th>Frozen</th>\n",
       "      <th>Detergents_Paper</th>\n",
       "      <th>Delicatessen</th>\n",
       "    </tr>\n",
       "  </thead>\n",
       "  <tbody>\n",
       "    <tr>\n",
       "      <th>count</th>\n",
       "      <td>142.000000</td>\n",
       "      <td>142.000000</td>\n",
       "      <td>142.000000</td>\n",
       "      <td>142.000000</td>\n",
       "      <td>142.000000</td>\n",
       "      <td>142.000000</td>\n",
       "    </tr>\n",
       "    <tr>\n",
       "      <th>mean</th>\n",
       "      <td>8904.323944</td>\n",
       "      <td>10716.500000</td>\n",
       "      <td>16322.852113</td>\n",
       "      <td>1652.612676</td>\n",
       "      <td>7269.507042</td>\n",
       "      <td>1753.436620</td>\n",
       "    </tr>\n",
       "    <tr>\n",
       "      <th>std</th>\n",
       "      <td>8987.714750</td>\n",
       "      <td>9679.631351</td>\n",
       "      <td>12267.318094</td>\n",
       "      <td>1812.803662</td>\n",
       "      <td>6291.089697</td>\n",
       "      <td>1953.797047</td>\n",
       "    </tr>\n",
       "    <tr>\n",
       "      <th>min</th>\n",
       "      <td>18.000000</td>\n",
       "      <td>928.000000</td>\n",
       "      <td>2743.000000</td>\n",
       "      <td>33.000000</td>\n",
       "      <td>332.000000</td>\n",
       "      <td>3.000000</td>\n",
       "    </tr>\n",
       "    <tr>\n",
       "      <th>25%</th>\n",
       "      <td>2347.750000</td>\n",
       "      <td>5938.000000</td>\n",
       "      <td>9245.250000</td>\n",
       "      <td>534.250000</td>\n",
       "      <td>3683.500000</td>\n",
       "      <td>566.750000</td>\n",
       "    </tr>\n",
       "    <tr>\n",
       "      <th>50%</th>\n",
       "      <td>5993.500000</td>\n",
       "      <td>7812.000000</td>\n",
       "      <td>12390.000000</td>\n",
       "      <td>1081.000000</td>\n",
       "      <td>5614.500000</td>\n",
       "      <td>1350.000000</td>\n",
       "    </tr>\n",
       "    <tr>\n",
       "      <th>75%</th>\n",
       "      <td>12229.750000</td>\n",
       "      <td>12162.750000</td>\n",
       "      <td>20183.500000</td>\n",
       "      <td>2146.750000</td>\n",
       "      <td>8662.500000</td>\n",
       "      <td>2156.000000</td>\n",
       "    </tr>\n",
       "    <tr>\n",
       "      <th>max</th>\n",
       "      <td>44466.000000</td>\n",
       "      <td>73498.000000</td>\n",
       "      <td>92780.000000</td>\n",
       "      <td>11559.000000</td>\n",
       "      <td>40827.000000</td>\n",
       "      <td>16523.000000</td>\n",
       "    </tr>\n",
       "  </tbody>\n",
       "</table>\n",
       "</div>"
      ],
      "text/plain": [
       "              Fresh          Milk       Grocery        Frozen  \\\n",
       "count    142.000000    142.000000    142.000000    142.000000   \n",
       "mean    8904.323944  10716.500000  16322.852113   1652.612676   \n",
       "std     8987.714750   9679.631351  12267.318094   1812.803662   \n",
       "min       18.000000    928.000000   2743.000000     33.000000   \n",
       "25%     2347.750000   5938.000000   9245.250000    534.250000   \n",
       "50%     5993.500000   7812.000000  12390.000000   1081.000000   \n",
       "75%    12229.750000  12162.750000  20183.500000   2146.750000   \n",
       "max    44466.000000  73498.000000  92780.000000  11559.000000   \n",
       "\n",
       "       Detergents_Paper  Delicatessen  \n",
       "count        142.000000    142.000000  \n",
       "mean        7269.507042   1753.436620  \n",
       "std         6291.089697   1953.797047  \n",
       "min          332.000000      3.000000  \n",
       "25%         3683.500000    566.750000  \n",
       "50%         5614.500000   1350.000000  \n",
       "75%         8662.500000   2156.000000  \n",
       "max        40827.000000  16523.000000  "
      ]
     },
     "execution_count": 22,
     "metadata": {},
     "output_type": "execute_result"
    }
   ],
   "source": [
    "Retail.describe()"
   ]
  },
  {
   "cell_type": "markdown",
   "metadata": {},
   "source": [
    "* **Total Count of spendings done by Retail is 142. From varying standard deviation ranging from (1812 to 12267) with high range. We found that all the variables don't show similar behaviour.**\n",
    "* **The minimum amount spent on Grocery is the highest and Delicatessen is the lowest.**"
   ]
  },
  {
   "cell_type": "code",
   "execution_count": 23,
   "metadata": {
    "ExecuteTime": {
     "end_time": "2021-05-23T08:26:47.255508Z",
     "start_time": "2021-05-23T08:26:47.183512Z"
    }
   },
   "outputs": [
    {
     "data": {
      "text/html": [
       "<div>\n",
       "<style scoped>\n",
       "    .dataframe tbody tr th:only-of-type {\n",
       "        vertical-align: middle;\n",
       "    }\n",
       "\n",
       "    .dataframe tbody tr th {\n",
       "        vertical-align: top;\n",
       "    }\n",
       "\n",
       "    .dataframe thead th {\n",
       "        text-align: right;\n",
       "    }\n",
       "</style>\n",
       "<table border=\"1\" class=\"dataframe\">\n",
       "  <thead>\n",
       "    <tr style=\"text-align: right;\">\n",
       "      <th></th>\n",
       "      <th>Fresh</th>\n",
       "      <th>Milk</th>\n",
       "      <th>Grocery</th>\n",
       "      <th>Frozen</th>\n",
       "      <th>Detergents_Paper</th>\n",
       "      <th>Delicatessen</th>\n",
       "    </tr>\n",
       "  </thead>\n",
       "  <tbody>\n",
       "    <tr>\n",
       "      <th>count</th>\n",
       "      <td>298.000000</td>\n",
       "      <td>298.000000</td>\n",
       "      <td>298.000000</td>\n",
       "      <td>298.000000</td>\n",
       "      <td>298.000000</td>\n",
       "      <td>298.000000</td>\n",
       "    </tr>\n",
       "    <tr>\n",
       "      <th>mean</th>\n",
       "      <td>13475.560403</td>\n",
       "      <td>3451.724832</td>\n",
       "      <td>3962.137584</td>\n",
       "      <td>3748.251678</td>\n",
       "      <td>790.560403</td>\n",
       "      <td>1415.956376</td>\n",
       "    </tr>\n",
       "    <tr>\n",
       "      <th>std</th>\n",
       "      <td>13831.687502</td>\n",
       "      <td>4352.165571</td>\n",
       "      <td>3545.513391</td>\n",
       "      <td>5643.912500</td>\n",
       "      <td>1104.093673</td>\n",
       "      <td>3147.426922</td>\n",
       "    </tr>\n",
       "    <tr>\n",
       "      <th>min</th>\n",
       "      <td>3.000000</td>\n",
       "      <td>55.000000</td>\n",
       "      <td>3.000000</td>\n",
       "      <td>25.000000</td>\n",
       "      <td>3.000000</td>\n",
       "      <td>3.000000</td>\n",
       "    </tr>\n",
       "    <tr>\n",
       "      <th>25%</th>\n",
       "      <td>4070.250000</td>\n",
       "      <td>1164.500000</td>\n",
       "      <td>1703.750000</td>\n",
       "      <td>830.000000</td>\n",
       "      <td>183.250000</td>\n",
       "      <td>379.000000</td>\n",
       "    </tr>\n",
       "    <tr>\n",
       "      <th>50%</th>\n",
       "      <td>9581.500000</td>\n",
       "      <td>2157.000000</td>\n",
       "      <td>2684.000000</td>\n",
       "      <td>2057.500000</td>\n",
       "      <td>385.500000</td>\n",
       "      <td>821.000000</td>\n",
       "    </tr>\n",
       "    <tr>\n",
       "      <th>75%</th>\n",
       "      <td>18274.750000</td>\n",
       "      <td>4029.500000</td>\n",
       "      <td>5076.750000</td>\n",
       "      <td>4558.750000</td>\n",
       "      <td>899.500000</td>\n",
       "      <td>1548.000000</td>\n",
       "    </tr>\n",
       "    <tr>\n",
       "      <th>max</th>\n",
       "      <td>112151.000000</td>\n",
       "      <td>43950.000000</td>\n",
       "      <td>21042.000000</td>\n",
       "      <td>60869.000000</td>\n",
       "      <td>6907.000000</td>\n",
       "      <td>47943.000000</td>\n",
       "    </tr>\n",
       "  </tbody>\n",
       "</table>\n",
       "</div>"
      ],
      "text/plain": [
       "               Fresh          Milk       Grocery        Frozen  \\\n",
       "count     298.000000    298.000000    298.000000    298.000000   \n",
       "mean    13475.560403   3451.724832   3962.137584   3748.251678   \n",
       "std     13831.687502   4352.165571   3545.513391   5643.912500   \n",
       "min         3.000000     55.000000      3.000000     25.000000   \n",
       "25%      4070.250000   1164.500000   1703.750000    830.000000   \n",
       "50%      9581.500000   2157.000000   2684.000000   2057.500000   \n",
       "75%     18274.750000   4029.500000   5076.750000   4558.750000   \n",
       "max    112151.000000  43950.000000  21042.000000  60869.000000   \n",
       "\n",
       "       Detergents_Paper  Delicatessen  \n",
       "count        298.000000    298.000000  \n",
       "mean         790.560403   1415.956376  \n",
       "std         1104.093673   3147.426922  \n",
       "min            3.000000      3.000000  \n",
       "25%          183.250000    379.000000  \n",
       "50%          385.500000    821.000000  \n",
       "75%          899.500000   1548.000000  \n",
       "max         6907.000000  47943.000000  "
      ]
     },
     "execution_count": 23,
     "metadata": {},
     "output_type": "execute_result"
    }
   ],
   "source": [
    "Hotel.describe()"
   ]
  },
  {
   "cell_type": "markdown",
   "metadata": {},
   "source": [
    "* **Total Count of spendings done by Hotel is 298. From varying standard deviation ranging from (1104 to 13832) with high range. We found that all the variables don't show similar behaviour.**\n",
    "* **The minimum amount spend on Milk is the highest. There are 4 variables on which hotel has spen the same amount of minimum amount of 3.**"
   ]
  },
  {
   "cell_type": "code",
   "execution_count": 24,
   "metadata": {
    "ExecuteTime": {
     "end_time": "2021-05-23T08:26:48.528255Z",
     "start_time": "2021-05-23T08:26:48.504255Z"
    }
   },
   "outputs": [],
   "source": [
    "# Region wise data subset\n",
    "Lisbon = df[df['Region'] == \"Lisbon\"]\n",
    "Oporto = df[df['Region'] == \"Oporto\"]\n",
    "Other = df[df['Region'] == \"Other\"]"
   ]
  },
  {
   "cell_type": "code",
   "execution_count": 25,
   "metadata": {
    "ExecuteTime": {
     "end_time": "2021-05-23T08:26:49.404526Z",
     "start_time": "2021-05-23T08:26:49.358657Z"
    }
   },
   "outputs": [
    {
     "data": {
      "text/html": [
       "<div>\n",
       "<style scoped>\n",
       "    .dataframe tbody tr th:only-of-type {\n",
       "        vertical-align: middle;\n",
       "    }\n",
       "\n",
       "    .dataframe tbody tr th {\n",
       "        vertical-align: top;\n",
       "    }\n",
       "\n",
       "    .dataframe thead th {\n",
       "        text-align: right;\n",
       "    }\n",
       "</style>\n",
       "<table border=\"1\" class=\"dataframe\">\n",
       "  <thead>\n",
       "    <tr style=\"text-align: right;\">\n",
       "      <th></th>\n",
       "      <th>Fresh</th>\n",
       "      <th>Milk</th>\n",
       "      <th>Grocery</th>\n",
       "      <th>Frozen</th>\n",
       "      <th>Detergents_Paper</th>\n",
       "      <th>Delicatessen</th>\n",
       "    </tr>\n",
       "  </thead>\n",
       "  <tbody>\n",
       "    <tr>\n",
       "      <th>count</th>\n",
       "      <td>77.000000</td>\n",
       "      <td>77.000000</td>\n",
       "      <td>77.000000</td>\n",
       "      <td>77.000000</td>\n",
       "      <td>77.000000</td>\n",
       "      <td>77.000000</td>\n",
       "    </tr>\n",
       "    <tr>\n",
       "      <th>mean</th>\n",
       "      <td>11101.727273</td>\n",
       "      <td>5486.415584</td>\n",
       "      <td>7403.077922</td>\n",
       "      <td>3000.337662</td>\n",
       "      <td>2651.116883</td>\n",
       "      <td>1354.896104</td>\n",
       "    </tr>\n",
       "    <tr>\n",
       "      <th>std</th>\n",
       "      <td>11557.438575</td>\n",
       "      <td>5704.856079</td>\n",
       "      <td>8496.287728</td>\n",
       "      <td>3092.143894</td>\n",
       "      <td>4208.462708</td>\n",
       "      <td>1345.423340</td>\n",
       "    </tr>\n",
       "    <tr>\n",
       "      <th>min</th>\n",
       "      <td>18.000000</td>\n",
       "      <td>258.000000</td>\n",
       "      <td>489.000000</td>\n",
       "      <td>61.000000</td>\n",
       "      <td>5.000000</td>\n",
       "      <td>7.000000</td>\n",
       "    </tr>\n",
       "    <tr>\n",
       "      <th>25%</th>\n",
       "      <td>2806.000000</td>\n",
       "      <td>1372.000000</td>\n",
       "      <td>2046.000000</td>\n",
       "      <td>950.000000</td>\n",
       "      <td>284.000000</td>\n",
       "      <td>548.000000</td>\n",
       "    </tr>\n",
       "    <tr>\n",
       "      <th>50%</th>\n",
       "      <td>7363.000000</td>\n",
       "      <td>3748.000000</td>\n",
       "      <td>3838.000000</td>\n",
       "      <td>1801.000000</td>\n",
       "      <td>737.000000</td>\n",
       "      <td>806.000000</td>\n",
       "    </tr>\n",
       "    <tr>\n",
       "      <th>75%</th>\n",
       "      <td>15218.000000</td>\n",
       "      <td>7503.000000</td>\n",
       "      <td>9490.000000</td>\n",
       "      <td>4324.000000</td>\n",
       "      <td>3593.000000</td>\n",
       "      <td>1775.000000</td>\n",
       "    </tr>\n",
       "    <tr>\n",
       "      <th>max</th>\n",
       "      <td>56083.000000</td>\n",
       "      <td>28326.000000</td>\n",
       "      <td>39694.000000</td>\n",
       "      <td>18711.000000</td>\n",
       "      <td>19410.000000</td>\n",
       "      <td>6854.000000</td>\n",
       "    </tr>\n",
       "  </tbody>\n",
       "</table>\n",
       "</div>"
      ],
      "text/plain": [
       "              Fresh          Milk       Grocery        Frozen  \\\n",
       "count     77.000000     77.000000     77.000000     77.000000   \n",
       "mean   11101.727273   5486.415584   7403.077922   3000.337662   \n",
       "std    11557.438575   5704.856079   8496.287728   3092.143894   \n",
       "min       18.000000    258.000000    489.000000     61.000000   \n",
       "25%     2806.000000   1372.000000   2046.000000    950.000000   \n",
       "50%     7363.000000   3748.000000   3838.000000   1801.000000   \n",
       "75%    15218.000000   7503.000000   9490.000000   4324.000000   \n",
       "max    56083.000000  28326.000000  39694.000000  18711.000000   \n",
       "\n",
       "       Detergents_Paper  Delicatessen  \n",
       "count         77.000000     77.000000  \n",
       "mean        2651.116883   1354.896104  \n",
       "std         4208.462708   1345.423340  \n",
       "min            5.000000      7.000000  \n",
       "25%          284.000000    548.000000  \n",
       "50%          737.000000    806.000000  \n",
       "75%         3593.000000   1775.000000  \n",
       "max        19410.000000   6854.000000  "
      ]
     },
     "execution_count": 25,
     "metadata": {},
     "output_type": "execute_result"
    }
   ],
   "source": [
    "Lisbon.describe()"
   ]
  },
  {
   "cell_type": "markdown",
   "metadata": {},
   "source": [
    "* **Total Count of spendings done by Lisbon is 77. From varying standard deviation ranging from (1345 to 11557) with high range. We found that all the variables don't show similar behaviour for Lisbon Region.**\n",
    "* **The minimum amount spend on Grocery is the highest and Detergents_Paper is the lowest.** "
   ]
  },
  {
   "cell_type": "code",
   "execution_count": 26,
   "metadata": {
    "ExecuteTime": {
     "end_time": "2021-05-23T08:26:50.728609Z",
     "start_time": "2021-05-23T08:26:50.663828Z"
    }
   },
   "outputs": [
    {
     "data": {
      "text/html": [
       "<div>\n",
       "<style scoped>\n",
       "    .dataframe tbody tr th:only-of-type {\n",
       "        vertical-align: middle;\n",
       "    }\n",
       "\n",
       "    .dataframe tbody tr th {\n",
       "        vertical-align: top;\n",
       "    }\n",
       "\n",
       "    .dataframe thead th {\n",
       "        text-align: right;\n",
       "    }\n",
       "</style>\n",
       "<table border=\"1\" class=\"dataframe\">\n",
       "  <thead>\n",
       "    <tr style=\"text-align: right;\">\n",
       "      <th></th>\n",
       "      <th>Fresh</th>\n",
       "      <th>Milk</th>\n",
       "      <th>Grocery</th>\n",
       "      <th>Frozen</th>\n",
       "      <th>Detergents_Paper</th>\n",
       "      <th>Delicatessen</th>\n",
       "    </tr>\n",
       "  </thead>\n",
       "  <tbody>\n",
       "    <tr>\n",
       "      <th>count</th>\n",
       "      <td>47.000000</td>\n",
       "      <td>47.000000</td>\n",
       "      <td>47.000000</td>\n",
       "      <td>47.000000</td>\n",
       "      <td>47.000000</td>\n",
       "      <td>47.000000</td>\n",
       "    </tr>\n",
       "    <tr>\n",
       "      <th>mean</th>\n",
       "      <td>9887.680851</td>\n",
       "      <td>5088.170213</td>\n",
       "      <td>9218.595745</td>\n",
       "      <td>4045.361702</td>\n",
       "      <td>3687.468085</td>\n",
       "      <td>1159.702128</td>\n",
       "    </tr>\n",
       "    <tr>\n",
       "      <th>std</th>\n",
       "      <td>8387.899211</td>\n",
       "      <td>5826.343145</td>\n",
       "      <td>10842.745314</td>\n",
       "      <td>9151.784954</td>\n",
       "      <td>6514.717668</td>\n",
       "      <td>1050.739841</td>\n",
       "    </tr>\n",
       "    <tr>\n",
       "      <th>min</th>\n",
       "      <td>3.000000</td>\n",
       "      <td>333.000000</td>\n",
       "      <td>1330.000000</td>\n",
       "      <td>131.000000</td>\n",
       "      <td>15.000000</td>\n",
       "      <td>51.000000</td>\n",
       "    </tr>\n",
       "    <tr>\n",
       "      <th>25%</th>\n",
       "      <td>2751.500000</td>\n",
       "      <td>1430.500000</td>\n",
       "      <td>2792.500000</td>\n",
       "      <td>811.500000</td>\n",
       "      <td>282.500000</td>\n",
       "      <td>540.500000</td>\n",
       "    </tr>\n",
       "    <tr>\n",
       "      <th>50%</th>\n",
       "      <td>8090.000000</td>\n",
       "      <td>2374.000000</td>\n",
       "      <td>6114.000000</td>\n",
       "      <td>1455.000000</td>\n",
       "      <td>811.000000</td>\n",
       "      <td>898.000000</td>\n",
       "    </tr>\n",
       "    <tr>\n",
       "      <th>75%</th>\n",
       "      <td>14925.500000</td>\n",
       "      <td>5772.500000</td>\n",
       "      <td>11758.500000</td>\n",
       "      <td>3272.000000</td>\n",
       "      <td>4324.500000</td>\n",
       "      <td>1538.500000</td>\n",
       "    </tr>\n",
       "    <tr>\n",
       "      <th>max</th>\n",
       "      <td>32717.000000</td>\n",
       "      <td>25071.000000</td>\n",
       "      <td>67298.000000</td>\n",
       "      <td>60869.000000</td>\n",
       "      <td>38102.000000</td>\n",
       "      <td>5609.000000</td>\n",
       "    </tr>\n",
       "  </tbody>\n",
       "</table>\n",
       "</div>"
      ],
      "text/plain": [
       "              Fresh          Milk       Grocery        Frozen  \\\n",
       "count     47.000000     47.000000     47.000000     47.000000   \n",
       "mean    9887.680851   5088.170213   9218.595745   4045.361702   \n",
       "std     8387.899211   5826.343145  10842.745314   9151.784954   \n",
       "min        3.000000    333.000000   1330.000000    131.000000   \n",
       "25%     2751.500000   1430.500000   2792.500000    811.500000   \n",
       "50%     8090.000000   2374.000000   6114.000000   1455.000000   \n",
       "75%    14925.500000   5772.500000  11758.500000   3272.000000   \n",
       "max    32717.000000  25071.000000  67298.000000  60869.000000   \n",
       "\n",
       "       Detergents_Paper  Delicatessen  \n",
       "count         47.000000     47.000000  \n",
       "mean        3687.468085   1159.702128  \n",
       "std         6514.717668   1050.739841  \n",
       "min           15.000000     51.000000  \n",
       "25%          282.500000    540.500000  \n",
       "50%          811.000000    898.000000  \n",
       "75%         4324.500000   1538.500000  \n",
       "max        38102.000000   5609.000000  "
      ]
     },
     "execution_count": 26,
     "metadata": {},
     "output_type": "execute_result"
    }
   ],
   "source": [
    "Oporto.describe()"
   ]
  },
  {
   "cell_type": "markdown",
   "metadata": {},
   "source": [
    "* **Total Count of spendings done by Oporto is 47. From varying standard deviation ranging from (1050 to 10843) with high range. We found that all the variables don't show similar behaviour for Oporto Region.**\n",
    "* **The minimum amount spend on Grocery is the highest and Fresh is the lowest.** "
   ]
  },
  {
   "cell_type": "code",
   "execution_count": 27,
   "metadata": {
    "ExecuteTime": {
     "end_time": "2021-05-23T08:26:52.068331Z",
     "start_time": "2021-05-23T08:26:51.988341Z"
    }
   },
   "outputs": [
    {
     "data": {
      "text/html": [
       "<div>\n",
       "<style scoped>\n",
       "    .dataframe tbody tr th:only-of-type {\n",
       "        vertical-align: middle;\n",
       "    }\n",
       "\n",
       "    .dataframe tbody tr th {\n",
       "        vertical-align: top;\n",
       "    }\n",
       "\n",
       "    .dataframe thead th {\n",
       "        text-align: right;\n",
       "    }\n",
       "</style>\n",
       "<table border=\"1\" class=\"dataframe\">\n",
       "  <thead>\n",
       "    <tr style=\"text-align: right;\">\n",
       "      <th></th>\n",
       "      <th>Fresh</th>\n",
       "      <th>Milk</th>\n",
       "      <th>Grocery</th>\n",
       "      <th>Frozen</th>\n",
       "      <th>Detergents_Paper</th>\n",
       "      <th>Delicatessen</th>\n",
       "    </tr>\n",
       "  </thead>\n",
       "  <tbody>\n",
       "    <tr>\n",
       "      <th>count</th>\n",
       "      <td>316.000000</td>\n",
       "      <td>316.000000</td>\n",
       "      <td>316.000000</td>\n",
       "      <td>316.000000</td>\n",
       "      <td>316.000000</td>\n",
       "      <td>316.000000</td>\n",
       "    </tr>\n",
       "    <tr>\n",
       "      <th>mean</th>\n",
       "      <td>12533.471519</td>\n",
       "      <td>5977.085443</td>\n",
       "      <td>7896.363924</td>\n",
       "      <td>2944.594937</td>\n",
       "      <td>2817.753165</td>\n",
       "      <td>1620.601266</td>\n",
       "    </tr>\n",
       "    <tr>\n",
       "      <th>std</th>\n",
       "      <td>13389.213115</td>\n",
       "      <td>7935.463443</td>\n",
       "      <td>9537.287778</td>\n",
       "      <td>4260.126243</td>\n",
       "      <td>4593.051613</td>\n",
       "      <td>3232.581660</td>\n",
       "    </tr>\n",
       "    <tr>\n",
       "      <th>min</th>\n",
       "      <td>3.000000</td>\n",
       "      <td>55.000000</td>\n",
       "      <td>3.000000</td>\n",
       "      <td>25.000000</td>\n",
       "      <td>3.000000</td>\n",
       "      <td>3.000000</td>\n",
       "    </tr>\n",
       "    <tr>\n",
       "      <th>25%</th>\n",
       "      <td>3350.750000</td>\n",
       "      <td>1634.000000</td>\n",
       "      <td>2141.500000</td>\n",
       "      <td>664.750000</td>\n",
       "      <td>251.250000</td>\n",
       "      <td>402.000000</td>\n",
       "    </tr>\n",
       "    <tr>\n",
       "      <th>50%</th>\n",
       "      <td>8752.500000</td>\n",
       "      <td>3684.500000</td>\n",
       "      <td>4732.000000</td>\n",
       "      <td>1498.000000</td>\n",
       "      <td>856.000000</td>\n",
       "      <td>994.000000</td>\n",
       "    </tr>\n",
       "    <tr>\n",
       "      <th>75%</th>\n",
       "      <td>17406.500000</td>\n",
       "      <td>7198.750000</td>\n",
       "      <td>10559.750000</td>\n",
       "      <td>3354.750000</td>\n",
       "      <td>3875.750000</td>\n",
       "      <td>1832.750000</td>\n",
       "    </tr>\n",
       "    <tr>\n",
       "      <th>max</th>\n",
       "      <td>112151.000000</td>\n",
       "      <td>73498.000000</td>\n",
       "      <td>92780.000000</td>\n",
       "      <td>36534.000000</td>\n",
       "      <td>40827.000000</td>\n",
       "      <td>47943.000000</td>\n",
       "    </tr>\n",
       "  </tbody>\n",
       "</table>\n",
       "</div>"
      ],
      "text/plain": [
       "               Fresh          Milk       Grocery        Frozen  \\\n",
       "count     316.000000    316.000000    316.000000    316.000000   \n",
       "mean    12533.471519   5977.085443   7896.363924   2944.594937   \n",
       "std     13389.213115   7935.463443   9537.287778   4260.126243   \n",
       "min         3.000000     55.000000      3.000000     25.000000   \n",
       "25%      3350.750000   1634.000000   2141.500000    664.750000   \n",
       "50%      8752.500000   3684.500000   4732.000000   1498.000000   \n",
       "75%     17406.500000   7198.750000  10559.750000   3354.750000   \n",
       "max    112151.000000  73498.000000  92780.000000  36534.000000   \n",
       "\n",
       "       Detergents_Paper  Delicatessen  \n",
       "count        316.000000    316.000000  \n",
       "mean        2817.753165   1620.601266  \n",
       "std         4593.051613   3232.581660  \n",
       "min            3.000000      3.000000  \n",
       "25%          251.250000    402.000000  \n",
       "50%          856.000000    994.000000  \n",
       "75%         3875.750000   1832.750000  \n",
       "max        40827.000000  47943.000000  "
      ]
     },
     "execution_count": 27,
     "metadata": {},
     "output_type": "execute_result"
    }
   ],
   "source": [
    "Other.describe()"
   ]
  },
  {
   "cell_type": "markdown",
   "metadata": {},
   "source": [
    "* **Total Count of spendings done by Other is 316. From varying standard deviation ranging from (3232 to 13389) with high range. We found that all the variables don't show similar behaviour for Other Region.**\n",
    "* **The minimum amount spend on Milk is the highest and There are 4 variables on which Other region has spent the same amount of minimum amount of 3.**"
   ]
  },
  {
   "cell_type": "markdown",
   "metadata": {},
   "source": [
    "# 1.3\t On the basis of the descriptive measure of variability:\n",
    "            Which item shows the most inconsistent behaviour?\n",
    "            Which item shows the Least inconsistent behaviour?\n"
   ]
  },
  {
   "cell_type": "markdown",
   "metadata": {},
   "source": [
    "* **Descriptive measures of variability is used to describe the amount of spread in a set of data. The most common measures of variability are the range, the interquartile range (IQR),variance,standard deviation.**\n",
    "\n",
    "* **The Coefficient of variation(CV) is a statistical measure of the dispersion of data points in a series around the mean. It is a useful statistic for comparing the degree of variation from one data series to another, even if the means are very different from one another.**\n",
    "   \n",
    "- This measure is the most appropriate measure for the current scenario:\n",
    "   \n",
    "$$ CV =\\sigma/\\mu $$\n",
    "$$ \\sigma = standard deviation $$ \n",
    "$$ \\mu = mean $$"
   ]
  },
  {
   "cell_type": "code",
   "execution_count": 28,
   "metadata": {
    "ExecuteTime": {
     "end_time": "2021-05-23T08:26:58.832034Z",
     "start_time": "2021-05-23T08:26:58.816035Z"
    }
   },
   "outputs": [
    {
     "name": "stdout",
     "output_type": "stream",
     "text": [
      " The coefficient of variation for Fresh is 1.053\n",
      " The coefficient of variation for Milk is 1.272\n",
      " The coefficient of variation for Grocery is 1.194\n",
      " The coefficient of variation for Frozen is 1.579\n",
      " The coefficient of variation for Detergents_Paper is 1.653\n",
      " The coefficient of variation for Delicatessen is 1.847\n"
     ]
    }
   ],
   "source": [
    "from scipy.stats import variation\n",
    "cols = ['Fresh','Milk','Grocery','Frozen','Detergents_Paper','Delicatessen']\n",
    "for i in cols:\n",
    "    print(' The coefficient of variation for {} is {}'.format(i,round(variation(df[i]),3)))"
   ]
  },
  {
   "cell_type": "markdown",
   "metadata": {},
   "source": [
    "**From the above result of CV, we found that Delicatessen shows the most inconsistent behaviour and Fresh shows the least inconsistent behaviour.**"
   ]
  },
  {
   "cell_type": "markdown",
   "metadata": {},
   "source": [
    "# 1.4\t Are there any outliers in the data?"
   ]
  },
  {
   "cell_type": "code",
   "execution_count": 29,
   "metadata": {
    "ExecuteTime": {
     "end_time": "2021-05-23T08:27:01.115998Z",
     "start_time": "2021-05-23T08:27:01.099999Z"
    }
   },
   "outputs": [],
   "source": [
    "df2 = df.drop(['Channel','Region'], axis=1)"
   ]
  },
  {
   "cell_type": "code",
   "execution_count": 30,
   "metadata": {
    "ExecuteTime": {
     "end_time": "2021-05-23T08:27:02.361322Z",
     "start_time": "2021-05-23T08:27:01.981240Z"
    }
   },
   "outputs": [
    {
     "data": {
      "image/png": "[encoded data removed]",
      "text/plain": [
       "<Figure size 1440x720 with 1 Axes>"
      ]
     },
     "metadata": {
      "needs_background": "light"
     },
     "output_type": "display_data"
    }
   ],
   "source": [
    "plt.figure(figsize=(20,10))\n",
    "sns.boxplot(data=df2,orient='h');"
   ]
  },
  {
   "cell_type": "markdown",
   "metadata": {},
   "source": [
    "### From the above result: The list of all the variables in the wholesale dataset that have outliers are--\n",
    "\n",
    "    ['Fresh','Milk,'Grocery','Frozen',Detergent_Paper','Delicatessen']"
   ]
  },
  {
   "cell_type": "markdown",
   "metadata": {},
   "source": [
    "# 1.5 On the basis of this report, what are the recommendations?"
   ]
  },
  {
   "cell_type": "markdown",
   "metadata": {},
   "source": [
    "From the all the analysis done, below are the Observations and recommendations:\n",
    "\n",
    "1. Out of all the regions, Other region is spending the highest and Oporto is spending the lowest.\n",
    "2. Hotel is spending more than Retail.\n",
    "3. Out of all the 6 varities, the highest spending was done on Fresh followed by Grocery, Milk, Frozen, Detergent_papers, Delicatessen.\n",
    "4. There are outliers present in the dataset."
   ]
  },
  {
   "cell_type": "markdown",
   "metadata": {},
   "source": [
    "# Thank You"
   ]
  }
 ],
 "metadata": {
  "kernelspec": {
   "display_name": "Python 3",
   "language": "python",
   "name": "python3"
  },
  "language_info": {
   "codemirror_mode": {
    "name": "ipython",
    "version": 3
   },
   "file_extension": ".py",
   "mimetype": "text/x-python",
   "name": "python",
   "nbconvert_exporter": "python",
   "pygments_lexer": "ipython3",
   "version": "3.7.6"
  },
  "latex_envs": {
   "LaTeX_envs_menu_present": true,
   "autoclose": false,
   "autocomplete": true,
   "bibliofile": "biblio.bib",
   "cite_by": "apalike",
   "current_citInitial": 1,
   "eqLabelWithNumbers": true,
   "eqNumInitial": 1,
   "hotkeys": {
    "equation": "Ctrl-E",
    "itemize": "Ctrl-I"
   },
   "labels_anchors": false,
   "latex_user_defs": false,
   "report_style_numbering": false,
   "user_envs_cfg": false
  },
  "varInspector": {
   "cols": {
    "lenName": 16,
    "lenType": 16,
    "lenVar": 40
   },
   "kernels_config": {
    "python": {
     "delete_cmd_postfix": "",
     "delete_cmd_prefix": "del ",
     "library": "var_list.py",
     "varRefreshCmd": "print(var_dic_list())"
    },
    "r": {
     "delete_cmd_postfix": ") ",
     "delete_cmd_prefix": "rm(",
     "library": "var_list.r",
     "varRefreshCmd": "cat(var_dic_list()) "
    }
   },
   "oldHeight": 203.76778000000002,
   "position": {
    "height": "395.521px",
    "left": "686.986px",
    "right": "20px",
    "top": "119.983px",
    "width": "645.521px"
   },
   "types_to_exclude": [
    "module",
    "function",
    "builtin_function_or_method",
    "instance",
    "_Feature"
   ],
   "varInspector_section_display": "block",
   "window_display": false
  }
 },
 "nbformat": 4,
 "nbformat_minor": 4
}
